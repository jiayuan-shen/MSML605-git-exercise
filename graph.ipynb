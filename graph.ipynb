{
 "cells": [
  {
   "cell_type": "code",
   "execution_count": 1,
   "metadata": {},
   "outputs": [],
   "source": [
    "class Dog:\n",
    "    species = \"Canis familiaris\"\n",
    "    def __init__(self, name, age):\n",
    "        self.name = name\n",
    "        self.age = age\n"
   ]
  },
  {
   "cell_type": "code",
   "execution_count": 2,
   "metadata": {},
   "outputs": [],
   "source": [
    "miles = Dog(\"Miles\", 4)\n",
    "buddy = Dog(\"Buddy\", 9)"
   ]
  },
  {
   "cell_type": "code",
   "execution_count": 3,
   "metadata": {},
   "outputs": [
    {
     "data": {
      "text/plain": [
       "10"
      ]
     },
     "execution_count": 3,
     "metadata": {},
     "output_type": "execute_result"
    }
   ],
   "source": [
    "buddy.age = 10\n",
    "buddy.age"
   ]
  },
  {
   "cell_type": "code",
   "execution_count": 4,
   "metadata": {},
   "outputs": [],
   "source": [
    "class Dog:\n",
    "    species = \"Canis familiaris\"\n",
    "\n",
    "    def __init__(self, name, age):\n",
    "        self.name = name\n",
    "        self.age = age\n",
    "\n",
    "    # Instance method\n",
    "    def description(self):\n",
    "        return f\"{self.name} is {self.age} years old\"\n",
    "\n",
    "    # Another instance method\n",
    "    def speak(self, sound):\n",
    "        return f\"{self.name} says {sound}\""
   ]
  },
  {
   "cell_type": "code",
   "execution_count": 5,
   "metadata": {},
   "outputs": [],
   "source": [
    "class Car:\n",
    "\n",
    "    def __init__(self, color, mileage):\n",
    "        self.color = color\n",
    "        self.mileage = mileage\n",
    "\n",
    "    # Instance method\n",
    "    def __str__(self):\n",
    "        return f\"The {self.color} car has {self.mileage:,} miles\""
   ]
  },
  {
   "cell_type": "code",
   "execution_count": 6,
   "metadata": {},
   "outputs": [],
   "source": [
    "blue = Car(\"blue\",20000)\n",
    "red = Car('red',30000)"
   ]
  },
  {
   "cell_type": "code",
   "execution_count": 7,
   "metadata": {},
   "outputs": [
    {
     "name": "stdout",
     "output_type": "stream",
     "text": [
      "The blue car has 20,000 miles\n",
      "The red car has 30,000 miles\n"
     ]
    }
   ],
   "source": [
    "for car in (blue,red):\n",
    "    print(car)"
   ]
  },
  {
   "cell_type": "code",
   "execution_count": 8,
   "metadata": {},
   "outputs": [],
   "source": [
    "class Dog:\n",
    "    species = \"Canis familiaris\"\n",
    "\n",
    "    def __init__(self, name, age):\n",
    "        self.name = name\n",
    "        self.age = age\n",
    "\n",
    "    def __str__(self):\n",
    "        return f\"{self.name} is {self.age} years old\"\n",
    "\n",
    "    def speak(self, sound):\n",
    "        return f\"{self.name} says {sound}\""
   ]
  },
  {
   "cell_type": "code",
   "execution_count": 9,
   "metadata": {},
   "outputs": [],
   "source": [
    "class JackRussellTerrier(Dog):\n",
    "    pass\n",
    "\n",
    "class Dachshund(Dog):\n",
    "    pass\n",
    "\n",
    "class Bulldog(Dog):\n",
    "    pass"
   ]
  },
  {
   "cell_type": "code",
   "execution_count": 10,
   "metadata": {},
   "outputs": [],
   "source": [
    "miles = JackRussellTerrier(\"Miles\", 4)\n",
    "buddy = Dachshund(\"Buddy\", 9)\n",
    "jack = Bulldog(\"Jack\", 3)\n",
    "jim = Bulldog(\"Jim\", 5)"
   ]
  },
  {
   "cell_type": "code",
   "execution_count": 11,
   "metadata": {},
   "outputs": [
    {
     "data": {
      "text/plain": [
       "__main__.JackRussellTerrier"
      ]
     },
     "execution_count": 11,
     "metadata": {},
     "output_type": "execute_result"
    }
   ],
   "source": [
    "type(miles)"
   ]
  },
  {
   "cell_type": "code",
   "execution_count": 12,
   "metadata": {},
   "outputs": [
    {
     "data": {
      "text/plain": [
       "True"
      ]
     },
     "execution_count": 12,
     "metadata": {},
     "output_type": "execute_result"
    }
   ],
   "source": [
    "isinstance(jack,Dog )"
   ]
  },
  {
   "cell_type": "code",
   "execution_count": 13,
   "metadata": {},
   "outputs": [],
   "source": [
    "# dog.py\n",
    "\n",
    "class Dog:\n",
    "    species = \"Canis familiaris\"\n",
    "\n",
    "    def __init__(self, name, age):\n",
    "        self.name = name\n",
    "        self.age = age\n",
    "\n",
    "    def __str__(self):\n",
    "        return f\"{self.name} is {self.age} years old\"\n",
    "\n",
    "    def speak(self, sound):\n",
    "        return f\"{self.name} says {sound}\""
   ]
  },
  {
   "cell_type": "code",
   "execution_count": 14,
   "metadata": {},
   "outputs": [],
   "source": [
    "class GoldenRetriever(Dog):\n",
    "    pass"
   ]
  },
  {
   "cell_type": "code",
   "execution_count": 15,
   "metadata": {},
   "outputs": [
    {
     "data": {
      "text/plain": [
       "'miles says bark'"
      ]
     },
     "execution_count": 15,
     "metadata": {},
     "output_type": "execute_result"
    }
   ],
   "source": [
    "miles = GoldenRetriever(\"miles\", 10)\n",
    "miles.speak(\"bark\")"
   ]
  },
  {
   "cell_type": "code",
   "execution_count": 16,
   "metadata": {},
   "outputs": [],
   "source": [
    "class Person:\n",
    "     def __init__(self, name):\n",
    "         self.name = name\n",
    "\n",
    "\n",
    "class Student(Person):\n",
    "     def __init__(self, name, major):\n",
    "         super().__init__(name)\n",
    "         self.major = major\n"
   ]
  },
  {
   "cell_type": "code",
   "execution_count": 17,
   "metadata": {},
   "outputs": [
    {
     "data": {
      "text/plain": [
       "'Computer Science'"
      ]
     },
     "execution_count": 17,
     "metadata": {},
     "output_type": "execute_result"
    }
   ],
   "source": [
    "john = Student(\"John\", \"Computer Science\")\n",
    "type(john)\n",
    "\n",
    "john.__class__ = Person\n",
    "type(john)\n",
    "\n",
    "\n",
    "john.name\n",
    "\n",
    "john.major\n"
   ]
  },
  {
   "cell_type": "code",
   "execution_count": 18,
   "metadata": {},
   "outputs": [
    {
     "data": {
      "text/plain": [
       "4348014928"
      ]
     },
     "execution_count": 18,
     "metadata": {},
     "output_type": "execute_result"
    }
   ],
   "source": [
    "num1=74\n",
    "id(num1)"
   ]
  },
  {
   "cell_type": "code",
   "execution_count": 19,
   "metadata": {},
   "outputs": [
    {
     "data": {
      "text/plain": [
       "4348014928"
      ]
     },
     "execution_count": 19,
     "metadata": {},
     "output_type": "execute_result"
    }
   ],
   "source": [
    "num2 = 74\n",
    "id(num2)"
   ]
  },
  {
   "cell_type": "code",
   "execution_count": 20,
   "metadata": {},
   "outputs": [
    {
     "data": {
      "text/plain": [
       "True"
      ]
     },
     "execution_count": 20,
     "metadata": {},
     "output_type": "execute_result"
    }
   ],
   "source": [
    "isinstance(True, bool)"
   ]
  },
  {
   "cell_type": "code",
   "execution_count": 21,
   "metadata": {},
   "outputs": [
    {
     "name": "stdout",
     "output_type": "stream",
     "text": [
      "4438654720 4435434624 4438711616\n"
     ]
    }
   ],
   "source": [
    "numbers = [1, 2, 3] + [4, 5, 6]\n",
    "num1 = [1,2,3]\n",
    "num2 = [4,5,6]\n",
    "print(id(num1),id(num2),id(numbers))"
   ]
  },
  {
   "cell_type": "code",
   "execution_count": 22,
   "metadata": {},
   "outputs": [
    {
     "name": "stdout",
     "output_type": "stream",
     "text": [
      "4436076896\n",
      "4436076896 4436077344\n"
     ]
    }
   ],
   "source": [
    "a={1,2,3}\n",
    "print(id(a))\n",
    "b={4,5,6}\n",
    "a.intersection_update(b)\n",
    "\n",
    "print(id(a),id(b))"
   ]
  },
  {
   "cell_type": "code",
   "execution_count": 23,
   "metadata": {},
   "outputs": [
    {
     "name": "stdout",
     "output_type": "stream",
     "text": [
      "4348013904\n",
      "43 4348013936\n"
     ]
    }
   ],
   "source": [
    "number=42\n",
    "print(id(number))\n",
    "\n",
    "number+=1\n",
    "print(number,id(number))"
   ]
  },
  {
   "cell_type": "code",
   "execution_count": 24,
   "metadata": {},
   "outputs": [
    {
     "name": "stdout",
     "output_type": "stream",
     "text": [
      "[[1, 2, 3], [4, 5, 6]]: 4438799808\n",
      "[[1, 2, 3], [4, 5, 6]]: 4438799744\n",
      "[[1, 2, 3], [4, 5, 6]]: 4438800000\n",
      "[1, 2, 3]:4438799296\n",
      "1:4348012592\n",
      "2:4348012624\n",
      "3:4348012656\n",
      "[4, 5, 6]:4438799232\n",
      "4:4348012688\n",
      "5:4348012720\n",
      "6:4348012752\n",
      "[1, 2, 3]:4438799296\n",
      "1:4348012592\n",
      "2:4348012624\n",
      "3:4348012656\n",
      "[4, 5, 6]:4438799232\n",
      "4:4348012688\n",
      "5:4348012720\n",
      "6:4348012752\n",
      "[1, 2, 3]:4438799936\n",
      "1:4348012592\n",
      "2:4348012624\n",
      "3:4348012656\n",
      "[4, 5, 6]:4438800704\n",
      "4:4348012688\n",
      "5:4348012720\n",
      "6:4348012752\n"
     ]
    },
    {
     "data": {
      "text/plain": [
       "[None, None]"
      ]
     },
     "execution_count": 24,
     "metadata": {},
     "output_type": "execute_result"
    }
   ],
   "source": [
    "import copy\n",
    "\n",
    "matrix = [[1, 2, 3], [4, 5, 6]]\n",
    "\n",
    "\n",
    "shallow_copy = copy.copy(matrix)  # Same as: matrix.copy() or matrix[:]\n",
    "deep_copy = copy.deepcopy(matrix)\n",
    "\n",
    "print(f'{matrix}: {id(matrix)}')\n",
    "print(f'{shallow_copy}: {id(shallow_copy)}')\n",
    "print(f'{deep_copy}: {id(deep_copy)}')\n",
    "\n",
    "\n",
    "[print(f'{j}:{id(j)}', *(f'{x}:{id(x)}' for x in j), sep=\"\\n\") for j in matrix]\n",
    "\n",
    "[print(f'{j}:{id(j)}', *(f'{x}:{id(x)}' for x in j), sep=\"\\n\") for j in shallow_copy]\n",
    "        \n",
    "[print(f'{j}:{id(j)}', *(f'{x}:{id(x)}' for x in j), sep=\"\\n\") for j in deep_copy]\n"
   ]
  },
  {
   "cell_type": "code",
   "execution_count": 25,
   "metadata": {},
   "outputs": [
    {
     "name": "stdout",
     "output_type": "stream",
     "text": [
      "matrix: [[1, 2, 3], [4, 5, 6]] 4438655296\n",
      "shallow_copy: [[1, 2, 3], [4, 5, 6]] 4438792768\n",
      "[1, 2, 3]:4438792640\n",
      "1:4348012592\n",
      "2:4348012624\n",
      "3:4348012656\n",
      "[111, 222, 333]:4438799744\n",
      "111:4348016112\n",
      "222:4348019664\n",
      "333:4434934928\n",
      "[1, 2, 3]:4438792640\n",
      "1:4348012592\n",
      "2:4348012624\n",
      "3:4348012656\n",
      "[4, 5, 6]:4438801024\n",
      "4:4348012688\n",
      "5:4348012720\n",
      "6:4348012752\n",
      "matrix: [[1, 2, 3], [111, 222, 333]] 4438655296\n",
      "shallow_copy: [[1, 2, 3], [4, 5, 6]] 4438792768\n"
     ]
    }
   ],
   "source": [
    "matrix = [[1, 2, 3], [4, 5, 6]]\n",
    "\n",
    "\n",
    "shallow_copy = copy.copy(matrix)  # Same as: matrix.copy() or matrix[:]\n",
    "deep_copy = copy.deepcopy(matrix)\n",
    "print('matrix:', matrix,id(matrix))\n",
    "print(\"shallow_copy:\", shallow_copy,id(shallow_copy))\n",
    "matrix[1] = [111,222,333]\n",
    "\n",
    "[print(f'{j}:{id(j)}', *(f'{x}:{id(x)}' for x in j), sep=\"\\n\") for j in matrix]\n",
    "\n",
    "[print(f'{j}:{id(j)}', *(f'{x}:{id(x)}' for x in j), sep=\"\\n\") for j in shallow_copy]\n",
    "        \n",
    "\n",
    "print('matrix:', matrix,id(matrix))\n",
    "print(\"shallow_copy:\", shallow_copy,id(shallow_copy))"
   ]
  },
  {
   "cell_type": "code",
   "execution_count": 26,
   "metadata": {},
   "outputs": [
    {
     "name": "stdout",
     "output_type": "stream",
     "text": [
      "matrix: [[1, 2, 3], [4, 5, 6]] 4438800000\n",
      "shallow_copy: [[1, 2, 3], [4, 5, 6]] 4438794880\n",
      "[111, 2, 3]:4438799296\n",
      "111:4348016112\n",
      "2:4348012624\n",
      "3:4348012656\n",
      "[4, 5, 6]:4438800704\n",
      "4:4348012688\n",
      "5:4348012720\n",
      "6:4348012752\n",
      "[111, 2, 3]:4438799296\n",
      "111:4348016112\n",
      "2:4348012624\n",
      "3:4348012656\n",
      "[4, 5, 6]:4438800704\n",
      "4:4348012688\n",
      "5:4348012720\n",
      "6:4348012752\n",
      "matrix: [[111, 2, 3], [4, 5, 6]] 4438800000\n",
      "shallow_copy: [[111, 2, 3], [4, 5, 6]] 4438794880\n"
     ]
    }
   ],
   "source": [
    "matrix = [[1, 2, 3], [4, 5, 6]]\n",
    "\n",
    "\n",
    "shallow_copy = copy.copy(matrix)  # Same as: matrix.copy() or matrix[:]\n",
    "deep_copy = copy.deepcopy(matrix)\n",
    "print('matrix:', matrix,id(matrix))\n",
    "print(\"shallow_copy:\", shallow_copy,id(shallow_copy))\n",
    "matrix[0][0] = 111\n",
    "\n",
    "[print(f'{j}:{id(j)}', *(f'{x}:{id(x)}' for x in j), sep=\"\\n\") for j in matrix]\n",
    "\n",
    "[print(f'{j}:{id(j)}', *(f'{x}:{id(x)}' for x in j), sep=\"\\n\") for j in shallow_copy]\n",
    "        \n",
    "\n",
    "print('matrix:', matrix,id(matrix))\n",
    "print(\"shallow_copy:\", shallow_copy,id(shallow_copy))"
   ]
  },
  {
   "cell_type": "code",
   "execution_count": 27,
   "metadata": {},
   "outputs": [
    {
     "name": "stdout",
     "output_type": "stream",
     "text": [
      "4438704448\n",
      "[1, 2, 3] 4435343040\n",
      "[4, 5, 6] 4438657088\n",
      "4438704448\n",
      "[1, 2, 3] 4435343040\n",
      "[4, 7, 8] 4438656256\n"
     ]
    }
   ],
   "source": [
    "a = [[1, 2, 3], [4, 5, 6]]\n",
    "print(id(a))\n",
    "print(a[0],id(a[0]))\n",
    "print(a[1],id(a[1]))\n",
    "a[1] = [4,7,8]\n",
    "print(id(a))\n",
    "print(a[0],id(a[0]))\n",
    "print(a[1],id(a[1]))\n"
   ]
  },
  {
   "cell_type": "code",
   "execution_count": 28,
   "metadata": {},
   "outputs": [
    {
     "ename": "ModuleNotFoundError",
     "evalue": "No module named 'cv2'",
     "output_type": "error",
     "traceback": [
      "\u001b[0;31m---------------------------------------------------------------------------\u001b[0m",
      "\u001b[0;31mModuleNotFoundError\u001b[0m                       Traceback (most recent call last)",
      "Cell \u001b[0;32mIn[28], line 2\u001b[0m\n\u001b[1;32m      1\u001b[0m \u001b[38;5;28;01mimport\u001b[39;00m \u001b[38;5;21;01mnumpy\u001b[39;00m \u001b[38;5;28;01mas\u001b[39;00m \u001b[38;5;21;01mnp\u001b[39;00m \n\u001b[0;32m----> 2\u001b[0m \u001b[38;5;28;01mimport\u001b[39;00m \u001b[38;5;21;01mcv2\u001b[39;00m \n\u001b[1;32m      3\u001b[0m \u001b[38;5;28;01mimport\u001b[39;00m \u001b[38;5;21;01mscipy\u001b[39;00m \u001b[38;5;28;01mas\u001b[39;00m \u001b[38;5;21;01msp\u001b[39;00m\n\u001b[1;32m      5\u001b[0m \u001b[38;5;28mprint\u001b[39m(np\u001b[38;5;241m.\u001b[39m__version__)\n",
      "\u001b[0;31mModuleNotFoundError\u001b[0m: No module named 'cv2'"
     ]
    }
   ],
   "source": [
    "import numpy as np \n",
    "import cv2 \n",
    "import scipy as sp\n",
    "\n",
    "print(np.__version__)\n",
    "print(cv2.__version__)\n",
    "print(sp.__version__)"
   ]
  },
  {
   "cell_type": "code",
   "execution_count": 31,
   "metadata": {},
   "outputs": [],
   "source": [
    "from IPython.core.interactiveshell import InteractiveShell\n",
    "InteractiveShell.ast_node_interactivity = \"all\""
   ]
  },
  {
   "cell_type": "code",
   "execution_count": null,
   "metadata": {},
   "outputs": [
    {
     "data": {
      "text/plain": [
       "4345785592"
      ]
     },
     "execution_count": 6,
     "metadata": {},
     "output_type": "execute_result"
    },
    {
     "data": {
      "text/plain": [
       "4345785592"
      ]
     },
     "execution_count": 6,
     "metadata": {},
     "output_type": "execute_result"
    }
   ],
   "source": [
    "ad = 5\n",
    "id(5)\n",
    "id(ad)"
   ]
  },
  {
   "cell_type": "code",
   "execution_count": null,
   "metadata": {},
   "outputs": [],
   "source": [
    "x = 40 # assignment "
   ]
  },
  {
   "cell_type": "code",
   "execution_count": null,
   "metadata": {},
   "outputs": [
    {
     "data": {
      "text/plain": [
       "1.2000000000000002"
      ]
     },
     "execution_count": 8,
     "metadata": {},
     "output_type": "execute_result"
    }
   ],
   "source": [
    "2/5*3"
   ]
  },
  {
   "cell_type": "code",
   "execution_count": null,
   "metadata": {},
   "outputs": [
    {
     "data": {
      "text/plain": [
       "'spanspanspan'"
      ]
     },
     "execution_count": 9,
     "metadata": {},
     "output_type": "execute_result"
    }
   ],
   "source": [
    "'span'*3"
   ]
  },
  {
   "cell_type": "code",
   "execution_count": null,
   "metadata": {},
   "outputs": [
    {
     "ename": "TypeError",
     "evalue": "can't multiply sequence by non-int of type 'str'",
     "output_type": "error",
     "traceback": [
      "\u001b[0;31m---------------------------------------------------------------------------\u001b[0m",
      "\u001b[0;31mTypeError\u001b[0m                                 Traceback (most recent call last)",
      "Cell \u001b[0;32mIn[10], line 1\u001b[0m\n\u001b[0;32m----> 1\u001b[0m \u001b[38;5;124;43m'\u001b[39;49m\u001b[38;5;124;43mspan\u001b[39;49m\u001b[38;5;124;43m'\u001b[39;49m\u001b[38;5;241;43m*\u001b[39;49m\u001b[38;5;124;43m'\u001b[39;49m\u001b[38;5;124;43mHello\u001b[39;49m\u001b[38;5;124;43m'\u001b[39;49m\n",
      "\u001b[0;31mTypeError\u001b[0m: can't multiply sequence by non-int of type 'str'"
     ]
    }
   ],
   "source": [
    "'span'*'Hello'"
   ]
  },
  {
   "cell_type": "code",
   "execution_count": null,
   "metadata": {},
   "outputs": [
    {
     "data": {
      "text/plain": [
       "'\\nMutiline Comment\\nLine 1\\nLine 2\\n'"
      ]
     },
     "execution_count": 11,
     "metadata": {},
     "output_type": "execute_result"
    }
   ],
   "source": [
    "'''\n",
    "Mutiline Comment\n",
    "Line 1\n",
    "Line 2\n",
    "'''"
   ]
  },
  {
   "cell_type": "code",
   "execution_count": null,
   "metadata": {},
   "outputs": [
    {
     "data": {
      "text/plain": [
       "int"
      ]
     },
     "execution_count": 12,
     "metadata": {},
     "output_type": "execute_result"
    }
   ],
   "source": [
    "type(23)"
   ]
  },
  {
   "cell_type": "code",
   "execution_count": null,
   "metadata": {},
   "outputs": [
    {
     "data": {
      "text/plain": [
       "str"
      ]
     },
     "execution_count": 13,
     "metadata": {},
     "output_type": "execute_result"
    }
   ],
   "source": [
    "type('23')"
   ]
  },
  {
   "cell_type": "code",
   "execution_count": null,
   "metadata": {},
   "outputs": [
    {
     "name": "stdout",
     "output_type": "stream",
     "text": [
      "25\n"
     ]
    }
   ],
   "source": [
    "x=25\n",
    "print(x)"
   ]
  },
  {
   "cell_type": "code",
   "execution_count": null,
   "metadata": {},
   "outputs": [
    {
     "data": {
      "text/plain": [
       "str"
      ]
     },
     "execution_count": 17,
     "metadata": {},
     "output_type": "execute_result"
    },
    {
     "data": {
      "text/plain": [
       "int"
      ]
     },
     "execution_count": 17,
     "metadata": {},
     "output_type": "execute_result"
    }
   ],
   "source": [
    "x = '45'\n",
    "type(x)\n",
    "y=int(x)\n",
    "type(y)"
   ]
  },
  {
   "cell_type": "code",
   "execution_count": null,
   "metadata": {},
   "outputs": [
    {
     "data": {
      "text/plain": [
       "float"
      ]
     },
     "execution_count": 18,
     "metadata": {},
     "output_type": "execute_result"
    },
    {
     "data": {
      "text/plain": [
       "int"
      ]
     },
     "execution_count": 18,
     "metadata": {},
     "output_type": "execute_result"
    }
   ],
   "source": [
    "y = 25.78\n",
    "type(y)\n",
    "y = int(y)\n",
    "type(y)"
   ]
  },
  {
   "cell_type": "code",
   "execution_count": 32,
   "metadata": {},
   "outputs": [
    {
     "data": {
      "text/plain": [
       "3.141592653589793"
      ]
     },
     "execution_count": 32,
     "metadata": {},
     "output_type": "execute_result"
    },
    {
     "data": {
      "text/plain": [
       "inf"
      ]
     },
     "execution_count": 32,
     "metadata": {},
     "output_type": "execute_result"
    }
   ],
   "source": [
    "import math\n",
    "math.pi\n",
    "math.inf"
   ]
  },
  {
   "cell_type": "code",
   "execution_count": 35,
   "metadata": {},
   "outputs": [
    {
     "name": "stdout",
     "output_type": "stream",
     "text": [
      "Done\n"
     ]
    }
   ],
   "source": [
    "def firstFunction():\n",
    "    print('Hello World')\n",
    "    return(25)\n",
    "\n",
    "print('Done') # Not a part of the function "
   ]
  },
  {
   "cell_type": "code",
   "execution_count": 37,
   "metadata": {},
   "outputs": [
    {
     "name": "stdout",
     "output_type": "stream",
     "text": [
      "Hello World\n"
     ]
    },
    {
     "data": {
      "text/plain": [
       "75"
      ]
     },
     "execution_count": 37,
     "metadata": {},
     "output_type": "execute_result"
    }
   ],
   "source": [
    "def firstFunction():\n",
    "    print('Hello World')\n",
    "    m=25\n",
    "    return(75)\n",
    "\n",
    "firstFunction()"
   ]
  },
  {
   "cell_type": "code",
   "execution_count": 41,
   "metadata": {},
   "outputs": [
    {
     "name": "stdout",
     "output_type": "stream",
     "text": [
      "Hello World\n"
     ]
    },
    {
     "data": {
      "text/plain": [
       "25"
      ]
     },
     "execution_count": 41,
     "metadata": {},
     "output_type": "execute_result"
    }
   ],
   "source": [
    "def firstFunction(n,p):\n",
    "    print('Hello World')\n",
    "    n=25\n",
    "    return(n)\n",
    "\n",
    "firstFunction(795,200)"
   ]
  },
  {
   "cell_type": "code",
   "execution_count": 47,
   "metadata": {},
   "outputs": [
    {
     "name": "stdout",
     "output_type": "stream",
     "text": [
      "Hello World\n",
      "4348014960\n"
     ]
    },
    {
     "data": {
      "text/plain": [
       "(75, 200)"
      ]
     },
     "execution_count": 47,
     "metadata": {},
     "output_type": "execute_result"
    },
    {
     "data": {
      "text/plain": [
       "4348014960"
      ]
     },
     "execution_count": 47,
     "metadata": {},
     "output_type": "execute_result"
    }
   ],
   "source": [
    "def firstFunction(n,p):\n",
    "    print('Hello World')\n",
    "    m=65\n",
    "    print(id(n))\n",
    "    return n,p\n",
    "\n",
    "m=75\n",
    "firstFunction(m,200)\n",
    "id(m)"
   ]
  },
  {
   "cell_type": "code",
   "execution_count": 49,
   "metadata": {},
   "outputs": [
    {
     "data": {
      "text/plain": [
       "False"
      ]
     },
     "execution_count": 49,
     "metadata": {},
     "output_type": "execute_result"
    }
   ],
   "source": [
    "5 == \"8\""
   ]
  },
  {
   "cell_type": "code",
   "execution_count": 52,
   "metadata": {},
   "outputs": [
    {
     "name": "stdout",
     "output_type": "stream",
     "text": [
      "0 1 2 3 4 5 6 7 8 9 "
     ]
    }
   ],
   "source": [
    "for i in range(0,10):\n",
    "    print(i,end=' ')"
   ]
  },
  {
   "cell_type": "code",
   "execution_count": 53,
   "metadata": {},
   "outputs": [
    {
     "name": "stdout",
     "output_type": "stream",
     "text": [
      "40 41 42 43 44 45 46 47 48 49 "
     ]
    }
   ],
   "source": [
    "for i in range(40,50):\n",
    "    print(i,end=' ')"
   ]
  },
  {
   "cell_type": "code",
   "execution_count": 54,
   "metadata": {},
   "outputs": [
    {
     "name": "stdout",
     "output_type": "stream",
     "text": [
      "40 42 44 46 48 "
     ]
    }
   ],
   "source": [
    "for i in range(40,50,2):\n",
    "    print(i,end=' ')"
   ]
  },
  {
   "cell_type": "code",
   "execution_count": 55,
   "metadata": {},
   "outputs": [
    {
     "name": "stdout",
     "output_type": "stream",
     "text": [
      "12\n",
      "11\n",
      "10\n",
      "9\n",
      "8\n",
      "7\n",
      "6\n",
      "5\n",
      "4\n",
      "3\n",
      "2\n",
      "1\n"
     ]
    }
   ],
   "source": [
    "n=12\n",
    "while(n>0):\n",
    "    print(n)\n",
    "    n-=1"
   ]
  },
  {
   "cell_type": "code",
   "execution_count": 79,
   "metadata": {},
   "outputs": [
    {
     "name": "stdout",
     "output_type": "stream",
     "text": [
      "5\n",
      "4\n",
      "3\n",
      "2\n",
      "1\n"
     ]
    }
   ],
   "source": [
    "def num1(n):\n",
    "    while n>0:\n",
    "        i=10\n",
    "        print(n % i)\n",
    "        n =  n // 10\n",
    "num1(12345)\n"
   ]
  },
  {
   "cell_type": "code",
   "execution_count": 71,
   "metadata": {},
   "outputs": [
    {
     "data": {
      "text/plain": [
       "3"
      ]
     },
     "execution_count": 71,
     "metadata": {},
     "output_type": "execute_result"
    }
   ],
   "source": [
    "-77897 % 10"
   ]
  },
  {
   "cell_type": "code",
   "execution_count": 73,
   "metadata": {},
   "outputs": [
    {
     "name": "stdout",
     "output_type": "stream",
     "text": [
      "{'b': 1, 'a': 3, 'n': 1, 'd': 1}\n"
     ]
    }
   ],
   "source": [
    "a = 'banada'\n",
    "d = {}\n",
    "for i in a:\n",
    "    d[i] = d.get(i,0)+1\n",
    "print(d)"
   ]
  },
  {
   "cell_type": "code",
   "execution_count": 75,
   "metadata": {},
   "outputs": [
    {
     "data": {
      "text/plain": [
       "-1"
      ]
     },
     "execution_count": 75,
     "metadata": {},
     "output_type": "execute_result"
    }
   ],
   "source": [
    "new_greeting = 'Hello'\n",
    "new_greeting.find('l',0,1)"
   ]
  },
  {
   "cell_type": "code",
   "execution_count": 78,
   "metadata": {},
   "outputs": [
    {
     "data": {
      "text/plain": [
       "True"
      ]
     },
     "execution_count": 78,
     "metadata": {},
     "output_type": "execute_result"
    }
   ],
   "source": [
    "'Banana' < 'banana'"
   ]
  },
  {
   "cell_type": "code",
   "execution_count": 4,
   "metadata": {},
   "outputs": [
    {
     "name": "stdout",
     "output_type": "stream",
     "text": [
      "[[ 7.07106781e-01  7.07106781e-01  0.00000000e+00]\n",
      " [-7.07106781e-01  7.07106781e-01  0.00000000e+00]\n",
      " [ 1.77635684e-15 -4.44089210e-16  1.00000000e+00]]\n"
     ]
    }
   ],
   "source": [
    "import numpy as np\n",
    "\n",
    "def gram_schmidt_process(vectors):\n",
    "    # Create an empty list to store the orthonormal basis\n",
    "    basis = []\n",
    "    \n",
    "    for v in vectors:\n",
    "        # Subtract the projection of \"v\" onto each basis vector \"u\"\n",
    "        w = v - sum(np.dot(v, u) * u for u in basis)\n",
    "        \n",
    "        # If \"w\" is not the zero vector, normalize it and add it to the basis\n",
    "        if (w > 1e-10).any():  # Check if \"w\" is not the zero vector\n",
    "            w = w / np.linalg.norm(w)  # Normalize \"w\"\n",
    "            basis.append(w)\n",
    "    \n",
    "    return np.array(basis)\n",
    "\n",
    "# Example usage:\n",
    "vectors = np.array([\n",
    "    [1, 1,0],\n",
    "    [1, 2,0],\n",
    "    [3,2,1]\n",
    "])\n",
    "\n",
    "orthonormal_basis = gram_schmidt_process(vectors)\n",
    "print(orthonormal_basis)\n"
   ]
  },
  {
   "cell_type": "code",
   "execution_count": 7,
   "metadata": {},
   "outputs": [
    {
     "name": "stdout",
     "output_type": "stream",
     "text": [
      "The vectors are not mutually orthogonal.\n"
     ]
    }
   ],
   "source": [
    "import numpy as np\n",
    "\n",
    "# Define the vectors\n",
    "a = np.array([7.07106781e-01, 7.07106781e-01, 0])\n",
    "b = np.array([-7.07106781e-01, 7.07106781e-01, 0])\n",
    "c = np.array([1.77635684e-15, -4.44089210e-16, 1])\n",
    "\n",
    "# Calculate the dot products\n",
    "dot_ab = np.dot(a, b)\n",
    "dot_ac = np.dot(a, c)\n",
    "dot_bc = np.dot(b, c)\n",
    "\n",
    "# Check if the dot products are zero\n",
    "if dot_ab == 0 and dot_ac == 0 and dot_bc == 0:\n",
    "    print(\"The vectors are mutually orthogonal.\")\n",
    "else:\n",
    "    print(\"The vectors are not mutually orthogonal.\")\n"
   ]
  },
  {
   "cell_type": "code",
   "execution_count": 1,
   "metadata": {},
   "outputs": [
    {
     "name": "stdout",
     "output_type": "stream",
     "text": [
      "1.26.3\n",
      "4.9.0\n",
      "1.11.4\n"
     ]
    }
   ],
   "source": [
    "import numpy as np \n",
    "import cv2\n",
    "import scipy as sp \n",
    "print(np.__version__)\n",
    "print(cv2.__version__)\n",
    "print(sp.__version__)"
   ]
  },
  {
   "cell_type": "code",
   "execution_count": null,
   "metadata": {},
   "outputs": [],
   "source": []
  },
  {
   "cell_type": "code",
   "execution_count": 1,
   "metadata": {},
   "outputs": [
    {
     "name": "stdout",
     "output_type": "stream",
     "text": [
      "h1: 4.5397868702434395e-05\n",
      "h2: 4.5397868702434395e-05\n",
      "h1: 9.357622968839299e-14\n",
      "h2: 0.9999546021312976\n",
      "h1: 0.9999546021312976\n",
      "h2: 9.357622968839299e-14\n",
      "h1: 4.5397868702434395e-05\n",
      "h2: 4.5397868702434395e-05\n"
     ]
    },
    {
     "data": {
      "text/plain": [
       "{(0, 0): 4.548037850511231e-05,\n",
       " (0, 1): 0.9999545608951235,\n",
       " (1, 0): 0.9999545608951235,\n",
       " (1, 1): 4.548037850511231e-05}"
      ]
     },
     "execution_count": 1,
     "metadata": {},
     "output_type": "execute_result"
    }
   ],
   "source": [
    "import numpy as np\n",
    "\n",
    "np.set_printoptions(linewidth=300)\n",
    "def sigmoid(x):\n",
    "    return 1 / (1 + np.exp(-x))\n",
    "\n",
    "# Network parameters\n",
    "w_h1_x1 = 20\n",
    "w_h1_x2 = -20\n",
    "b_h1 = -10\n",
    "\n",
    "w_h2_x1 = -20\n",
    "w_h2_x2 = 20\n",
    "b_h2 = -10\n",
    "\n",
    "w_y_h1 = 20\n",
    "w_y_h2 = 20\n",
    "b_y = -10\n",
    "\n",
    "# Forward propagation function\n",
    "def forward_propagate(x1, x2):\n",
    "    # Calculate h1 and h2\n",
    "    h1 = sigmoid(w_h1_x1 * x1 + w_h1_x2 * x2 + b_h1)\n",
    "    h2 = sigmoid(w_h2_x1 * x1 + w_h2_x2 * x2 + b_h2)\n",
    "    print(f'h1: {h1}')\n",
    "    print(f'h2: {h2}')\n",
    "    # Calculate y\n",
    "    y = sigmoid(w_y_h1 * h1 + w_y_h2 * h2 + b_y)\n",
    "    return y\n",
    "\n",
    "# Input combinations\n",
    "inputs = [(0, 0), (0, 1), (1, 0), (1, 1)]\n",
    "\n",
    "# Compute and display results\n",
    "results = {input_pair: forward_propagate(*input_pair) for input_pair in inputs}\n",
    "results\n"
   ]
  },
  {
   "cell_type": "code",
   "execution_count": 24,
   "metadata": {},
   "outputs": [
    {
     "data": {
      "image/png": "[encoded data removed]",
      "text/plain": [
       "<Figure size 1000x600 with 1 Axes>"
      ]
     },
     "metadata": {},
     "output_type": "display_data"
    }
   ],
   "source": [
    "import numpy as np\n",
    "import matplotlib.pyplot as plt\n",
    "from scipy.stats import norm\n",
    "\n",
    "# Step 1: Generate random data\n",
    "data = np.random.randn(10000)\n",
    "\n",
    "# Step 2: Plot histogram of the data\n",
    "plt.figure(figsize=(10,6))\n",
    "plt.hist(data, bins=30, density=True, alpha=0.6, color='g', label='Histogram of Generated Data')\n",
    "\n",
    "# Step 3: Plot the PDF of the theoretical standard normal distribution\n",
    "xmin, xmax = plt.xlim()\n",
    "x = np.linspace(xmin, xmax, 100)\n",
    "p = norm.pdf(x, 0, 1)\n",
    "plt.plot(x, p, 'k', linewidth=2, label='Theoretical Normal Distribution')\n",
    "\n",
    "# Step 4: Add title and labels\n",
    "plt.title('Standard Normal Distribution vs. np.random.randn')\n",
    "plt.xlabel('Data values')\n",
    "plt.ylabel('Density')\n",
    "plt.legend()\n",
    "plt.grid(True)\n",
    "\n",
    "# Show plot\n",
    "plt.show()\n"
   ]
  },
  {
   "cell_type": "code",
   "execution_count": 39,
   "metadata": {},
   "outputs": [
    {
     "name": "stdout",
     "output_type": "stream",
     "text": [
      "[99 98 97 96 95 94 93 92 91 90 89 88 87 86 85 84 83 82 81 80 79 78 77 76 75 74 73 72 71 70 69 68 67 66 65 64 63 62 61 60 59 58 57 56 55 54 53 52 51 50 49 48 47 46 45 44 43 42 41 40 39 38 37 36 35 34 33 32 31 30 29 28 27 26 25 24 23 22 21 20 19 18 17 16 15 14 13 12 11 10  9  8  7  6  5  4  3  2  1]\n"
     ]
    }
   ],
   "source": [
    "import numpy as np\n",
    "x = np.random.permutation(1000)\n",
    "#print(x) # permute a sequence of array from 0-999\n",
    "\n",
    "a = np.array([[1,2,3], [4,5,6],[7,8,9]])\n",
    "b = a[2,:]\n",
    "#print(b) # output all the elments in the third array of the a in terms of the original sequence\n",
    "\n",
    "a = np.array([[1,2,3], [4,5,6],[7,8,9]])\n",
    "b = a.reshape(-1)\n",
    "#print(b) # decomposite the orginal structure of the 2-d arrary and put all the elments in a 1-d arrary in terms of the original permutation\n",
    "\n",
    "f = np.random.randn(5,1)\n",
    "g = f[f>0]\n",
    "#print(g) # Generate five samples of a random variable that follows the standard normal distribution and put the value into a vertical vector 5*1. Return a list with values that are greater than 0. \n",
    "\n",
    "x = np.zeros(10)+0.5\n",
    "# generate an arrary with 10 0 elements, and add 0.5 for each 0\n",
    "# return a list of #10 0.5\n",
    "y = 0.5* np.ones(len(x))\n",
    "# generate an array with 10 1 elements, for each 1 multiply by 0.5\n",
    "# return the same result as x\n",
    "z = x + y\n",
    "# add the previous two list together by mapping the elements\n",
    "# return a list with 10 1\n",
    "\n",
    "a = np.arange(1,100)\n",
    "b = a[::-1]\n",
    "# arrange the value from 1-99\n",
    "# return the array of number in a reverse order of 1-99 start from 99"
   ]
  },
  {
   "cell_type": "code",
   "execution_count": 23,
   "metadata": {},
   "outputs": [
    {
     "data": {
      "text/plain": [
       "array([1, 4, 1, 5, 5, 3, 5, 4, 6, 4], dtype=int32)"
      ]
     },
     "execution_count": 23,
     "metadata": {},
     "output_type": "execute_result"
    }
   ],
   "source": [
    "def roll_die(N):\n",
    "    # Step 1: Generate N random numbers between 0 and 1\n",
    "    random_numbers = np.random.rand(N)\n",
    "    \n",
    "    # Steps 2 & 3: Scale to 1-6 and round down\n",
    "    die_rolls = np.floor(6 * random_numbers) + 1\n",
    "    die_rolls = die_rolls.astype(np.int32)\n",
    "    return die_rolls\n",
    "\n",
    "# Example: Roll a die 10 times\n",
    "roll_results = roll_die(10)\n",
    "roll_results\n"
   ]
  },
  {
   "cell_type": "code",
   "execution_count": 82,
   "metadata": {},
   "outputs": [
    {
     "name": "stdout",
     "output_type": "stream",
     "text": [
      "[[1 2]\n",
      " [3 4]\n",
      " [5 6]]\n"
     ]
    }
   ],
   "source": [
    "y = np.array([1, 2, 3, 4, 5, 6])\n",
    "z = y.reshape(3,2)\n",
    "print(z)"
   ]
  },
  {
   "cell_type": "code",
   "execution_count": 91,
   "metadata": {},
   "outputs": [
    {
     "name": "stdout",
     "output_type": "stream",
     "text": [
      "[2] [1]\n"
     ]
    }
   ],
   "source": [
    "x = np.max(z)\n",
    "r,C= np.where(z==np.max(z))\n",
    "print(r,C)"
   ]
  },
  {
   "cell_type": "code",
   "execution_count": 104,
   "metadata": {},
   "outputs": [
    {
     "data": {
      "text/plain": [
       "3"
      ]
     },
     "execution_count": 104,
     "metadata": {},
     "output_type": "execute_result"
    }
   ],
   "source": [
    "v = np.array([1, 8, 8, 2, 1, 3, 9, 8])\n",
    "x = np.sum(np.where(v==1,1,0))\n",
    "x = np.sum(v==1)\n",
    "x"
   ]
  },
  {
   "cell_type": "code",
   "execution_count": 38,
   "metadata": {},
   "outputs": [
    {
     "data": {
      "text/plain": [
       "(array([2.62024780e-04, 7.86074339e-04, 2.62024780e-03, 1.17911151e-02,\n",
       "        3.45872709e-02, 7.54631365e-02, 1.43851604e-01, 2.26651434e-01,\n",
       "        3.11023413e-01, 3.74171385e-01, 3.95395392e-01, 3.55829651e-01,\n",
       "        2.75650068e-01, 1.93898337e-01, 1.18435200e-01, 6.49821453e-02,\n",
       "        2.33202054e-02, 7.59871861e-03, 3.14429736e-03, 7.86074339e-04]),\n",
       " array([-3.93556682, -3.55392353, -3.17228023, -2.79063694, -2.40899365,\n",
       "        -2.02735035, -1.64570706, -1.26406376, -0.88242047, -0.50077718,\n",
       "        -0.11913388,  0.26250941,  0.64415271,  1.025796  ,  1.40743929,\n",
       "         1.78908259,  2.17072588,  2.55236918,  2.93401247,  3.31565576,\n",
       "         3.69729906]),\n",
       " <BarContainer object of 20 artists>)"
      ]
     },
     "execution_count": 38,
     "metadata": {},
     "output_type": "execute_result"
    },
    {
     "data": {
      "image/png": "[encoded data removed]",
      "text/plain": [
       "<Figure size 640x480 with 1 Axes>"
      ]
     },
     "metadata": {},
     "output_type": "display_data"
    }
   ],
   "source": [
    "A = np.random.randn(100,100)\n",
    "A = sorted(A.reshape(-1),reverse=True)\n",
    "import matplotlib.pyplot as plt\n",
    "plt.hist(A, bins=20, density=True, alpha=0.6, color='g', label='Histogram of A')"
   ]
  },
  {
   "cell_type": "code",
   "execution_count": null,
   "metadata": {},
   "outputs": [],
   "source": []
  },
  {
   "cell_type": "code",
   "execution_count": 9,
   "metadata": {},
   "outputs": [],
   "source": [
    "from IPython.core.interactiveshell import InteractiveShell\n",
    "InteractiveShell.ast_node_interactivity = \"all\""
   ]
  },
  {
   "cell_type": "code",
   "execution_count": 10,
   "metadata": {},
   "outputs": [
    {
     "name": "stdout",
     "output_type": "stream",
     "text": [
      "250027.5669923017\n",
      "Vectorlized Version1.1320114135742188ms\n",
      "250027.56699230176\n",
      "For loop Version176.20015144348145ms\n"
     ]
    }
   ],
   "source": [
    "import numpy as np\n",
    "import time\n",
    "\n",
    "a = np.random.rand(1000000)\n",
    "b = np.random.rand(1000000)\n",
    "tic = time.time()\n",
    "c = np.dot(a,b)\n",
    "toc = time.time()\n",
    "print(c)\n",
    "print(\"Vectorlized Version\"+str(1000*(toc-tic))+'ms')\n",
    "\n",
    "c = 0\n",
    "tic = time.time()\n",
    "for i in range(1000000):\n",
    "    c+=a[i]*b[i]\n",
    "toc = time.time()\n",
    "print(c)\n",
    "print(\"For loop Version\"+str(1000*(toc-tic))+'ms')"
   ]
  },
  {
   "cell_type": "code",
   "execution_count": 11,
   "metadata": {},
   "outputs": [
    {
     "data": {
      "text/plain": [
       "[1, 2, 3, 1, 2, 3, 1, 2, 3, 1, 2, 3, 1, 2, 3, 1, 2, 3]"
      ]
     },
     "execution_count": 11,
     "metadata": {},
     "output_type": "execute_result"
    },
    {
     "data": {
      "text/plain": [
       "array([ 6, 12, 18])"
      ]
     },
     "execution_count": 11,
     "metadata": {},
     "output_type": "execute_result"
    }
   ],
   "source": [
    "[1,2,3]*6\n",
    "np.array([1,2,3])*6"
   ]
  },
  {
   "cell_type": "code",
   "execution_count": 24,
   "metadata": {},
   "outputs": [
    {
     "data": {
      "text/plain": [
       "array([ 8, 20, 14, 14, 11, 14])"
      ]
     },
     "execution_count": 24,
     "metadata": {},
     "output_type": "execute_result"
    }
   ],
   "source": [
    "# convolution \n",
    "import numpy as np\n",
    "a = [8,4,6,2,7] #length 5\n",
    "b = [1,2] # length 2\n",
    "np.convolve(a,b, mode='full')"
   ]
  },
  {
   "cell_type": "code",
   "execution_count": 27,
   "metadata": {},
   "outputs": [
    {
     "name": "stdout",
     "output_type": "stream",
     "text": [
      "Correlation between a and b is -0.2626128657194451\n"
     ]
    }
   ],
   "source": [
    "# correlation\n",
    "import numpy as np\n",
    "\n",
    "a = np.array([8, 4, 6, 2, 7])  # length 5\n",
    "b = np.array([1, 2, 3, 4, 5])  # length 5, just an example\n",
    "\n",
    "# Calculate correlation\n",
    "correlation_matrix = np.corrcoef(a, b)\n",
    "correlation = correlation_matrix[0, 1]\n",
    "\n",
    "print(f\"Correlation between a and b is {correlation}\")\n"
   ]
  },
  {
   "cell_type": "code",
   "execution_count": 20,
   "metadata": {},
   "outputs": [
    {
     "name": "stdout",
     "output_type": "stream",
     "text": [
      "Mean: [2.5, 2.5, 2.5]\n",
      "Standard Deviation: [2.140872096444188, 2.140872096444188, 2.140872096444188]\n"
     ]
    }
   ],
   "source": [
    "def findMean(points):\n",
    "    # Initialize sums of each dimension\n",
    "    sums = [0] * len(points[0])  # Assuming all points have the same dimension\n",
    "    for point in points:\n",
    "        for i, value in enumerate(point):\n",
    "            sums[i] += value\n",
    "    # Calculate mean for each dimension\n",
    "    mean = [total / len(points) for total in sums]\n",
    "    return mean\n",
    "\n",
    "def findStd(points, mean):\n",
    "    # Initialize sum of squares of differences\n",
    "    sum_of_squares = [0] * len(points[0])\n",
    "    for point in points:\n",
    "        for i, value in enumerate(point):\n",
    "            sum_of_squares[i] += (value - mean[i]) ** 2\n",
    "    # Calculate standard deviation for each dimension\n",
    "    std = [(total / len(points)) ** 0.5 for total in sum_of_squares]\n",
    "    return std\n",
    "\n",
    "# Example usage\n",
    "points = [(2,2,2), (3,3,3), (4,4,4), (6,0,0), (0,6,0), (0,0,6)]\n",
    "mean = findMean(points)\n",
    "std = findStd(points, mean)\n",
    "\n",
    "print(\"Mean:\", mean)\n",
    "print(\"Standard Deviation:\", std)\n"
   ]
  },
  {
   "cell_type": "code",
   "execution_count": 21,
   "metadata": {},
   "outputs": [
    {
     "data": {
      "text/plain": [
       "[2.140872096444188, 2.140872096444188, 2.140872096444188]"
      ]
     },
     "execution_count": 21,
     "metadata": {},
     "output_type": "execute_result"
    }
   ],
   "source": [
    "def findMean(lst):\n",
    "    sums_columns = [0]*len(lst[0])\n",
    "    for num_tuple in lst:\n",
    "        for index, num in enumerate(num_tuple):\n",
    "            sums_columns[index]+=num\n",
    "            \n",
    "    lst_mean = [i/len(lst) for i in sums_columns]\n",
    "    return lst_mean\n",
    "points = [(2,2,2), (3,3,3), (4,4,4), (6,0,0), (0,6,0), (0,0,6)]\n",
    "mean = findMean(points)\n",
    "mean\n",
    "\n",
    "def stdev(lst,lst_mean):\n",
    "    stdev_columns = [0]*len(lst[0])\n",
    "    for num_tuple in lst:\n",
    "        for index, num in enumerate(num_tuple):\n",
    "            stdev_columns[index]+= (num-lst_mean[index])**2\n",
    " \n",
    "    lst_stdev = [(i/len(lst))**0.5 for i in stdev_columns]\n",
    "    return lst_stdev\n",
    "points = [(2,2,2), (3,3,3), (4,4,4), (6,0,0), (0,6,0), (0,0,6)]\n",
    "std = stdev(points,mean)\n",
    "std"
   ]
  },
  {
   "cell_type": "code",
   "execution_count": 24,
   "metadata": {},
   "outputs": [
    {
     "name": "stdout",
     "output_type": "stream",
     "text": [
      "32\n"
     ]
    }
   ],
   "source": [
    "def InnerProduct(lst1,lst2):\n",
    "    sums = 0\n",
    "    for i in range(len(lst1)):\n",
    "        sums+=lst1[i]*lst2[i]\n",
    "    return sums\n",
    "\n",
    "vector1 = [1, 2, 3]\n",
    "vector2 = [4, 5, 6]\n",
    "print(InnerProduct(vector1, vector2))\n"
   ]
  }
 ],
 "metadata": {
  "kernelspec": {
   "display_name": "base",
   "language": "python",
   "name": "python3"
  },
  "language_info": {
   "codemirror_mode": {
    "name": "ipython",
    "version": 3
   },
   "file_extension": ".py",
   "mimetype": "text/x-python",
   "name": "python",
   "nbconvert_exporter": "python",
   "pygments_lexer": "ipython3",
   "version": "3.11.0"
  }
 },
 "nbformat": 4,
 "nbformat_minor": 2
}
